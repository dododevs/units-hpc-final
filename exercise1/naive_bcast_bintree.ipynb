{
 "cells": [
  {
   "cell_type": "code",
   "execution_count": 8,
   "metadata": {},
   "outputs": [],
   "source": [
    "import pandas as pd\n",
    "import plotly.express as px\n",
    "import plotly.graph_objects as go\n",
    "import numpy as np\n",
    "import math\n",
    "from binarytree import build as btree"
   ]
  },
  {
   "cell_type": "markdown",
   "metadata": {},
   "source": [
    "As explained in the report, hardcode latencies for critical points and establish a function to obtain the CPU latency between Core #0 and Core#p. Such function trivially interpolates the CPU latency assigning the same value found at the critical point until the next one is reached. "
   ]
  },
  {
   "cell_type": "code",
   "execution_count": 9,
   "metadata": {},
   "outputs": [],
   "source": [
    "latencies = {\n",
    "  \"1\": 0.14,   # CCX\n",
    "  \"4\": 0.35,   # CCD\n",
    "  \"8\": 0.35,   # NUMA\n",
    "  \"32\": 0.41,  # socket \n",
    "  \"64\": 0.65,  # node \n",
    "  \"128\": 1.82, # cluster\n",
    "}\n",
    "def get_latency(p):\n",
    "  for k in list(latencies)[::-1]:\n",
    "    if int(k) <= p:\n",
    "      return latencies[k]\n",
    "  return latencies[list(latencies.keys())[0]]\n",
    "df = pd.DataFrame(data={\n",
    "  \"cpu\": range(2, 2 + 255),\n",
    "  \"avg_latency\": [get_latency(i) for i in range(255)]\n",
    "}).dropna()"
   ]
  },
  {
   "cell_type": "markdown",
   "metadata": {},
   "source": [
    "Define a function for computing the execution time for the Binary Tree Broadcast algorithm with np communicating processes. As explained in further detail in the report, the idea is to build a balanced binary tree (using the binarytree Python module) with np nodes, representing the np processes involved in the broadcast. Then, the built tree is traversed recursively from the root keeping track of the maximum cumulative latency (accounted twice) between the traversal of each node's children. This is to appropriately model the parallelized propagation from one layer of the tree to the next one."
   ]
  },
  {
   "cell_type": "code",
   "execution_count": 10,
   "metadata": {},
   "outputs": [],
   "source": [
    "def get_bintree_time(np):\n",
    "  def get_latency(a, b):\n",
    "    if a // 4 == b // 4:\n",
    "      return latencies[\"1\"]\n",
    "    if a // 8 == b // 8:\n",
    "      return latencies[\"4\"]\n",
    "    if a // 16 == b // 16:\n",
    "      return latencies[\"8\"]\n",
    "    if a // 64 == b // 64:\n",
    "      return latencies[\"32\"]\n",
    "    if a // 128 == b // 128:\n",
    "      return latencies[\"64\"]\n",
    "    return latencies[\"128\"]\n",
    "  def traverse(t, total):\n",
    "    if not t:\n",
    "      return total\n",
    "    return max(\n",
    "      traverse(t.left, total + 2 * get_latency(t.value, t.left.value) if t.left else total),\n",
    "      traverse(t.right, total + 2 * get_latency(t.value, t.right.value) if t.right else total)\n",
    "    )\n",
    "  return traverse(btree(range(0, np)), 0.0)"
   ]
  },
  {
   "cell_type": "code",
   "execution_count": 11,
   "metadata": {},
   "outputs": [],
   "source": [
    "actual = pd.read_csv(\"data/20240221_175449_bcast5_msize2.txt\")\n",
    "df[\"actual_bcast\"] = actual\n",
    "df[\"estimate_bcast\"] = df.apply(lambda e: get_bintree_time(int(e[\"cpu\"])), axis=1)"
   ]
  },
  {
   "cell_type": "code",
   "execution_count": 12,
   "metadata": {},
   "outputs": [
    {
     "data": {
      "text/html": [
       "<div>\n",
       "<style scoped>\n",
       "    .dataframe tbody tr th:only-of-type {\n",
       "        vertical-align: middle;\n",
       "    }\n",
       "\n",
       "    .dataframe tbody tr th {\n",
       "        vertical-align: top;\n",
       "    }\n",
       "\n",
       "    .dataframe thead th {\n",
       "        text-align: right;\n",
       "    }\n",
       "</style>\n",
       "<table border=\"1\" class=\"dataframe\">\n",
       "  <thead>\n",
       "    <tr style=\"text-align: right;\">\n",
       "      <th></th>\n",
       "      <th>cpu</th>\n",
       "      <th>avg_latency</th>\n",
       "      <th>actual_bcast</th>\n",
       "      <th>estimate_bcast</th>\n",
       "    </tr>\n",
       "  </thead>\n",
       "  <tbody>\n",
       "    <tr>\n",
       "      <th>0</th>\n",
       "      <td>2</td>\n",
       "      <td>0.14</td>\n",
       "      <td>0.16</td>\n",
       "      <td>0.28</td>\n",
       "    </tr>\n",
       "    <tr>\n",
       "      <th>1</th>\n",
       "      <td>3</td>\n",
       "      <td>0.14</td>\n",
       "      <td>0.28</td>\n",
       "      <td>0.28</td>\n",
       "    </tr>\n",
       "    <tr>\n",
       "      <th>2</th>\n",
       "      <td>4</td>\n",
       "      <td>0.14</td>\n",
       "      <td>0.18</td>\n",
       "      <td>0.56</td>\n",
       "    </tr>\n",
       "    <tr>\n",
       "      <th>3</th>\n",
       "      <td>5</td>\n",
       "      <td>0.14</td>\n",
       "      <td>0.30</td>\n",
       "      <td>0.98</td>\n",
       "    </tr>\n",
       "    <tr>\n",
       "      <th>4</th>\n",
       "      <td>6</td>\n",
       "      <td>0.35</td>\n",
       "      <td>0.37</td>\n",
       "      <td>0.98</td>\n",
       "    </tr>\n",
       "    <tr>\n",
       "      <th>...</th>\n",
       "      <td>...</td>\n",
       "      <td>...</td>\n",
       "      <td>...</td>\n",
       "      <td>...</td>\n",
       "    </tr>\n",
       "    <tr>\n",
       "      <th>250</th>\n",
       "      <td>252</td>\n",
       "      <td>1.82</td>\n",
       "      <td>11.93</td>\n",
       "      <td>8.26</td>\n",
       "    </tr>\n",
       "    <tr>\n",
       "      <th>251</th>\n",
       "      <td>253</td>\n",
       "      <td>1.82</td>\n",
       "      <td>11.91</td>\n",
       "      <td>8.26</td>\n",
       "    </tr>\n",
       "    <tr>\n",
       "      <th>252</th>\n",
       "      <td>254</td>\n",
       "      <td>1.82</td>\n",
       "      <td>12.41</td>\n",
       "      <td>8.26</td>\n",
       "    </tr>\n",
       "    <tr>\n",
       "      <th>253</th>\n",
       "      <td>255</td>\n",
       "      <td>1.82</td>\n",
       "      <td>12.80</td>\n",
       "      <td>8.26</td>\n",
       "    </tr>\n",
       "    <tr>\n",
       "      <th>254</th>\n",
       "      <td>256</td>\n",
       "      <td>1.82</td>\n",
       "      <td>2.69</td>\n",
       "      <td>8.54</td>\n",
       "    </tr>\n",
       "  </tbody>\n",
       "</table>\n",
       "<p>255 rows × 4 columns</p>\n",
       "</div>"
      ],
      "text/plain": [
       "     cpu  avg_latency  actual_bcast  estimate_bcast\n",
       "0      2         0.14          0.16            0.28\n",
       "1      3         0.14          0.28            0.28\n",
       "2      4         0.14          0.18            0.56\n",
       "3      5         0.14          0.30            0.98\n",
       "4      6         0.35          0.37            0.98\n",
       "..   ...          ...           ...             ...\n",
       "250  252         1.82         11.93            8.26\n",
       "251  253         1.82         11.91            8.26\n",
       "252  254         1.82         12.41            8.26\n",
       "253  255         1.82         12.80            8.26\n",
       "254  256         1.82          2.69            8.54\n",
       "\n",
       "[255 rows x 4 columns]"
      ]
     },
     "execution_count": 12,
     "metadata": {},
     "output_type": "execute_result"
    }
   ],
   "source": [
    "df"
   ]
  },
  {
   "cell_type": "code",
   "execution_count": 13,
   "metadata": {},
   "outputs": [
    {
     "data": {
      "application/vnd.plotly.v1+json": {
       "config": {
        "plotlyServerURL": "https://plot.ly"
       },
       "data": [
        {
         "hovertemplate": "cpu=%{x}<br>actual_bcast=%{y}<extra></extra>",
         "legendgroup": "",
         "marker": {
          "color": "#636efa",
          "symbol": "circle"
         },
         "mode": "markers",
         "name": "",
         "orientation": "v",
         "showlegend": false,
         "type": "scatter",
         "x": [
          2,
          3,
          4,
          5,
          6,
          7,
          8,
          9,
          10,
          11,
          12,
          13,
          14,
          15,
          16,
          17,
          18,
          19,
          20,
          21,
          22,
          23,
          24,
          25,
          26,
          27,
          28,
          29,
          30,
          31,
          32,
          33,
          34,
          35,
          36,
          37,
          38,
          39,
          40,
          41,
          42,
          43,
          44,
          45,
          46,
          47,
          48,
          49,
          50,
          51,
          52,
          53,
          54,
          55,
          56,
          57,
          58,
          59,
          60,
          61,
          62,
          63,
          64,
          65,
          66,
          67,
          68,
          69,
          70,
          71,
          72,
          73,
          74,
          75,
          76,
          77,
          78,
          79,
          80,
          81,
          82,
          83,
          84,
          85,
          86,
          87,
          88,
          89,
          90,
          91,
          92,
          93,
          94,
          95,
          96,
          97,
          98,
          99,
          100,
          101,
          102,
          103,
          104,
          105,
          106,
          107,
          108,
          109,
          110,
          111,
          112,
          113,
          114,
          115,
          116,
          117,
          118,
          119,
          120,
          121,
          122,
          123,
          124,
          125,
          126,
          127,
          128,
          129,
          130,
          131,
          132,
          133,
          134,
          135,
          136,
          137,
          138,
          139,
          140,
          141,
          142,
          143,
          144,
          145,
          146,
          147,
          148,
          149,
          150,
          151,
          152,
          153,
          154,
          155,
          156,
          157,
          158,
          159,
          160,
          161,
          162,
          163,
          164,
          165,
          166,
          167,
          168,
          169,
          170,
          171,
          172,
          173,
          174,
          175,
          176,
          177,
          178,
          179,
          180,
          181,
          182,
          183,
          184,
          185,
          186,
          187,
          188,
          189,
          190,
          191,
          192,
          193,
          194,
          195,
          196,
          197,
          198,
          199,
          200,
          201,
          202,
          203,
          204,
          205,
          206,
          207,
          208,
          209,
          210,
          211,
          212,
          213,
          214,
          215,
          216,
          217,
          218,
          219,
          220,
          221,
          222,
          223,
          224,
          225,
          226,
          227,
          228,
          229,
          230,
          231,
          232,
          233,
          234,
          235,
          236,
          237,
          238,
          239,
          240,
          241,
          242,
          243,
          244,
          245,
          246,
          247,
          248,
          249,
          250,
          251,
          252,
          253,
          254,
          255,
          256
         ],
         "xaxis": "x",
         "y": [
          0.16,
          0.28,
          0.18,
          0.3,
          0.37,
          0.48,
          0.79,
          1.14,
          1.15,
          1.15,
          1.15,
          1.2,
          1.15,
          1.3,
          1.21,
          1.78,
          1.78,
          1.84,
          1.79,
          1.88,
          1.89,
          1.92,
          1.9,
          1.9,
          1.85,
          1.84,
          1.89,
          1.91,
          1.9,
          2,
          1.82,
          2.87,
          2.67,
          2.51,
          2.53,
          2.5,
          2.55,
          2.63,
          2.64,
          2.54,
          2.53,
          2.58,
          2.94,
          2.55,
          2.57,
          2.88,
          2.71,
          2.91,
          3.36,
          2.64,
          2.58,
          2.59,
          2.58,
          2.76,
          2.63,
          2.69,
          2.9,
          2.84,
          2.61,
          2.59,
          2.6,
          2.71,
          2.18,
          1.92,
          2.07,
          2.04,
          2.48,
          2.46,
          2.19,
          2.37,
          2.4,
          2.4,
          2.42,
          2.54,
          2.56,
          2.56,
          2.58,
          2.8,
          3.88,
          2.97,
          2.84,
          2.94,
          2.8,
          2.99,
          2.9,
          2.92,
          3.21,
          3.47,
          3.02,
          3.03,
          2.95,
          3.09,
          3.09,
          3.1,
          3.1,
          3.91,
          3.35,
          3.3,
          3.28,
          3.4,
          3.33,
          4.28,
          3.34,
          3.8,
          3.49,
          3.97,
          3.57,
          3.66,
          3.57,
          3.59,
          3.62,
          3.7,
          3.63,
          3.7,
          3.93,
          3.77,
          3.85,
          3.94,
          3.89,
          3.88,
          3.95,
          4.02,
          3.92,
          3.91,
          3.52,
          3.65,
          3.62,
          2.39,
          2.86,
          2.47,
          2.77,
          2.67,
          2.83,
          3.08,
          3.62,
          3.66,
          3.4,
          3.17,
          3.89,
          3.22,
          3.33,
          3.39,
          3.7,
          3.64,
          3.42,
          3.79,
          3.94,
          3.47,
          3.84,
          4.33,
          4.84,
          8.15,
          4.51,
          5.29,
          4.98,
          4.65,
          5.18,
          5.07,
          5.16,
          5.38,
          6.21,
          5.83,
          6.06,
          6.15,
          6.08,
          8.05,
          6.73,
          6.75,
          7.94,
          6.81,
          7.85,
          7.71,
          7.67,
          8.52,
          7.71,
          7.12,
          7.57,
          8.5,
          9.41,
          9.32,
          8.7,
          9.51,
          9.5,
          9.19,
          8.55,
          8.46,
          9.89,
          8.33,
          10.56,
          9.26,
          4.69,
          6,
          6.31,
          6.06,
          6.11,
          6.09,
          6.16,
          6,
          6.69,
          6.84,
          7.41,
          6.84,
          6.22,
          7.71,
          7.77,
          7.45,
          6.67,
          7.84,
          7.83,
          7.07,
          7.73,
          7.79,
          8.3,
          8.64,
          8.22,
          8.4,
          8.62,
          8.72,
          7.65,
          8.11,
          8.45,
          8.17,
          7.22,
          7.18,
          8.01,
          7.56,
          8.87,
          9.36,
          7.56,
          8.01,
          8.48,
          8.75,
          9.12,
          8.18,
          9.14,
          8.7,
          8.91,
          8.95,
          9.06,
          9.88,
          15.04,
          9.91,
          10.03,
          9.87,
          10.91,
          10.39,
          11.8,
          11.02,
          10.99,
          10.32,
          11.93,
          11.91,
          12.41,
          12.8,
          2.69
         ],
         "yaxis": "y"
        },
        {
         "mode": "lines",
         "name": "est_bcast",
         "type": "scatter",
         "x": [
          2,
          3,
          4,
          5,
          6,
          7,
          8,
          9,
          10,
          11,
          12,
          13,
          14,
          15,
          16,
          17,
          18,
          19,
          20,
          21,
          22,
          23,
          24,
          25,
          26,
          27,
          28,
          29,
          30,
          31,
          32,
          33,
          34,
          35,
          36,
          37,
          38,
          39,
          40,
          41,
          42,
          43,
          44,
          45,
          46,
          47,
          48,
          49,
          50,
          51,
          52,
          53,
          54,
          55,
          56,
          57,
          58,
          59,
          60,
          61,
          62,
          63,
          64,
          65,
          66,
          67,
          68,
          69,
          70,
          71,
          72,
          73,
          74,
          75,
          76,
          77,
          78,
          79,
          80,
          81,
          82,
          83,
          84,
          85,
          86,
          87,
          88,
          89,
          90,
          91,
          92,
          93,
          94,
          95,
          96,
          97,
          98,
          99,
          100,
          101,
          102,
          103,
          104,
          105,
          106,
          107,
          108,
          109,
          110,
          111,
          112,
          113,
          114,
          115,
          116,
          117,
          118,
          119,
          120,
          121,
          122,
          123,
          124,
          125,
          126,
          127,
          128,
          129,
          130,
          131,
          132,
          133,
          134,
          135,
          136,
          137,
          138,
          139,
          140,
          141,
          142,
          143,
          144,
          145,
          146,
          147,
          148,
          149,
          150,
          151,
          152,
          153,
          154,
          155,
          156,
          157,
          158,
          159,
          160,
          161,
          162,
          163,
          164,
          165,
          166,
          167,
          168,
          169,
          170,
          171,
          172,
          173,
          174,
          175,
          176,
          177,
          178,
          179,
          180,
          181,
          182,
          183,
          184,
          185,
          186,
          187,
          188,
          189,
          190,
          191,
          192,
          193,
          194,
          195,
          196,
          197,
          198,
          199,
          200,
          201,
          202,
          203,
          204,
          205,
          206,
          207,
          208,
          209,
          210,
          211,
          212,
          213,
          214,
          215,
          216,
          217,
          218,
          219,
          220,
          221,
          222,
          223,
          224,
          225,
          226,
          227,
          228,
          229,
          230,
          231,
          232,
          233,
          234,
          235,
          236,
          237,
          238,
          239,
          240,
          241,
          242,
          243,
          244,
          245,
          246,
          247,
          248,
          249,
          250,
          251,
          252,
          253,
          254,
          255,
          256
         ],
         "y": [
          0.28,
          0.28,
          0.56,
          0.98,
          0.98,
          0.98,
          1.26,
          1.26,
          1.68,
          1.68,
          1.68,
          1.68,
          1.68,
          1.68,
          1.96,
          2.08,
          2.08,
          2.08,
          2.5,
          2.5,
          2.5,
          2.5,
          2.5,
          2.5,
          2.5,
          2.5,
          2.5,
          2.5,
          2.5,
          2.5,
          2.78,
          2.78,
          2.9,
          2.9,
          2.9,
          2.9,
          2.9,
          2.9,
          3.32,
          3.32,
          3.32,
          3.32,
          3.32,
          3.32,
          3.32,
          3.32,
          3.32,
          3.32,
          3.32,
          3.32,
          3.32,
          3.32,
          3.32,
          3.32,
          3.32,
          3.32,
          3.32,
          3.32,
          3.32,
          3.32,
          3.32,
          3.32,
          3.5999999999999996,
          4.08,
          4.08,
          4.08,
          4.2,
          4.2,
          4.2,
          4.2,
          4.2,
          4.2,
          4.2,
          4.2,
          4.2,
          4.2,
          4.2,
          4.2,
          4.62,
          4.62,
          4.62,
          4.62,
          4.62,
          4.62,
          4.62,
          4.62,
          4.62,
          4.62,
          4.62,
          4.62,
          4.62,
          4.62,
          4.62,
          4.62,
          4.62,
          4.62,
          4.62,
          4.62,
          4.62,
          4.62,
          4.62,
          4.62,
          4.62,
          4.62,
          4.62,
          4.62,
          4.62,
          4.62,
          4.62,
          4.62,
          4.62,
          4.62,
          4.62,
          4.62,
          4.62,
          4.62,
          4.62,
          4.62,
          4.62,
          4.62,
          4.62,
          4.62,
          4.62,
          4.62,
          4.62,
          4.62,
          4.8999999999999995,
          7.24,
          7.720000000000001,
          7.720000000000001,
          7.720000000000001,
          7.720000000000001,
          7.720000000000001,
          7.720000000000001,
          7.84,
          7.84,
          7.84,
          7.84,
          7.84,
          7.84,
          7.84,
          7.84,
          7.84,
          7.84,
          7.84,
          7.84,
          7.84,
          7.84,
          7.84,
          7.84,
          7.84,
          7.84,
          7.84,
          7.84,
          7.84,
          7.84,
          7.84,
          7.84,
          8.26,
          8.26,
          8.26,
          8.26,
          8.26,
          8.26,
          8.26,
          8.26,
          8.26,
          8.26,
          8.26,
          8.26,
          8.26,
          8.26,
          8.26,
          8.26,
          8.26,
          8.26,
          8.26,
          8.26,
          8.26,
          8.26,
          8.26,
          8.26,
          8.26,
          8.26,
          8.26,
          8.26,
          8.26,
          8.26,
          8.26,
          8.26,
          8.26,
          8.26,
          8.26,
          8.26,
          8.26,
          8.26,
          8.26,
          8.26,
          8.26,
          8.26,
          8.26,
          8.26,
          8.26,
          8.26,
          8.26,
          8.26,
          8.26,
          8.26,
          8.26,
          8.26,
          8.26,
          8.26,
          8.26,
          8.26,
          8.26,
          8.26,
          8.26,
          8.26,
          8.26,
          8.26,
          8.26,
          8.26,
          8.26,
          8.26,
          8.26,
          8.26,
          8.26,
          8.26,
          8.26,
          8.26,
          8.26,
          8.26,
          8.26,
          8.26,
          8.26,
          8.26,
          8.26,
          8.26,
          8.26,
          8.26,
          8.26,
          8.26,
          8.26,
          8.26,
          8.26,
          8.26,
          8.26,
          8.26,
          8.26,
          8.26,
          8.26,
          8.26,
          8.26,
          8.26,
          8.54
         ]
        }
       ],
       "layout": {
        "legend": {
         "tracegroupgap": 0
        },
        "margin": {
         "t": 60
        },
        "template": {
         "data": {
          "bar": [
           {
            "error_x": {
             "color": "#2a3f5f"
            },
            "error_y": {
             "color": "#2a3f5f"
            },
            "marker": {
             "line": {
              "color": "#E5ECF6",
              "width": 0.5
             },
             "pattern": {
              "fillmode": "overlay",
              "size": 10,
              "solidity": 0.2
             }
            },
            "type": "bar"
           }
          ],
          "barpolar": [
           {
            "marker": {
             "line": {
              "color": "#E5ECF6",
              "width": 0.5
             },
             "pattern": {
              "fillmode": "overlay",
              "size": 10,
              "solidity": 0.2
             }
            },
            "type": "barpolar"
           }
          ],
          "carpet": [
           {
            "aaxis": {
             "endlinecolor": "#2a3f5f",
             "gridcolor": "white",
             "linecolor": "white",
             "minorgridcolor": "white",
             "startlinecolor": "#2a3f5f"
            },
            "baxis": {
             "endlinecolor": "#2a3f5f",
             "gridcolor": "white",
             "linecolor": "white",
             "minorgridcolor": "white",
             "startlinecolor": "#2a3f5f"
            },
            "type": "carpet"
           }
          ],
          "choropleth": [
           {
            "colorbar": {
             "outlinewidth": 0,
             "ticks": ""
            },
            "type": "choropleth"
           }
          ],
          "contour": [
           {
            "colorbar": {
             "outlinewidth": 0,
             "ticks": ""
            },
            "colorscale": [
             [
              0,
              "#0d0887"
             ],
             [
              0.1111111111111111,
              "#46039f"
             ],
             [
              0.2222222222222222,
              "#7201a8"
             ],
             [
              0.3333333333333333,
              "#9c179e"
             ],
             [
              0.4444444444444444,
              "#bd3786"
             ],
             [
              0.5555555555555556,
              "#d8576b"
             ],
             [
              0.6666666666666666,
              "#ed7953"
             ],
             [
              0.7777777777777778,
              "#fb9f3a"
             ],
             [
              0.8888888888888888,
              "#fdca26"
             ],
             [
              1,
              "#f0f921"
             ]
            ],
            "type": "contour"
           }
          ],
          "contourcarpet": [
           {
            "colorbar": {
             "outlinewidth": 0,
             "ticks": ""
            },
            "type": "contourcarpet"
           }
          ],
          "heatmap": [
           {
            "colorbar": {
             "outlinewidth": 0,
             "ticks": ""
            },
            "colorscale": [
             [
              0,
              "#0d0887"
             ],
             [
              0.1111111111111111,
              "#46039f"
             ],
             [
              0.2222222222222222,
              "#7201a8"
             ],
             [
              0.3333333333333333,
              "#9c179e"
             ],
             [
              0.4444444444444444,
              "#bd3786"
             ],
             [
              0.5555555555555556,
              "#d8576b"
             ],
             [
              0.6666666666666666,
              "#ed7953"
             ],
             [
              0.7777777777777778,
              "#fb9f3a"
             ],
             [
              0.8888888888888888,
              "#fdca26"
             ],
             [
              1,
              "#f0f921"
             ]
            ],
            "type": "heatmap"
           }
          ],
          "heatmapgl": [
           {
            "colorbar": {
             "outlinewidth": 0,
             "ticks": ""
            },
            "colorscale": [
             [
              0,
              "#0d0887"
             ],
             [
              0.1111111111111111,
              "#46039f"
             ],
             [
              0.2222222222222222,
              "#7201a8"
             ],
             [
              0.3333333333333333,
              "#9c179e"
             ],
             [
              0.4444444444444444,
              "#bd3786"
             ],
             [
              0.5555555555555556,
              "#d8576b"
             ],
             [
              0.6666666666666666,
              "#ed7953"
             ],
             [
              0.7777777777777778,
              "#fb9f3a"
             ],
             [
              0.8888888888888888,
              "#fdca26"
             ],
             [
              1,
              "#f0f921"
             ]
            ],
            "type": "heatmapgl"
           }
          ],
          "histogram": [
           {
            "marker": {
             "pattern": {
              "fillmode": "overlay",
              "size": 10,
              "solidity": 0.2
             }
            },
            "type": "histogram"
           }
          ],
          "histogram2d": [
           {
            "colorbar": {
             "outlinewidth": 0,
             "ticks": ""
            },
            "colorscale": [
             [
              0,
              "#0d0887"
             ],
             [
              0.1111111111111111,
              "#46039f"
             ],
             [
              0.2222222222222222,
              "#7201a8"
             ],
             [
              0.3333333333333333,
              "#9c179e"
             ],
             [
              0.4444444444444444,
              "#bd3786"
             ],
             [
              0.5555555555555556,
              "#d8576b"
             ],
             [
              0.6666666666666666,
              "#ed7953"
             ],
             [
              0.7777777777777778,
              "#fb9f3a"
             ],
             [
              0.8888888888888888,
              "#fdca26"
             ],
             [
              1,
              "#f0f921"
             ]
            ],
            "type": "histogram2d"
           }
          ],
          "histogram2dcontour": [
           {
            "colorbar": {
             "outlinewidth": 0,
             "ticks": ""
            },
            "colorscale": [
             [
              0,
              "#0d0887"
             ],
             [
              0.1111111111111111,
              "#46039f"
             ],
             [
              0.2222222222222222,
              "#7201a8"
             ],
             [
              0.3333333333333333,
              "#9c179e"
             ],
             [
              0.4444444444444444,
              "#bd3786"
             ],
             [
              0.5555555555555556,
              "#d8576b"
             ],
             [
              0.6666666666666666,
              "#ed7953"
             ],
             [
              0.7777777777777778,
              "#fb9f3a"
             ],
             [
              0.8888888888888888,
              "#fdca26"
             ],
             [
              1,
              "#f0f921"
             ]
            ],
            "type": "histogram2dcontour"
           }
          ],
          "mesh3d": [
           {
            "colorbar": {
             "outlinewidth": 0,
             "ticks": ""
            },
            "type": "mesh3d"
           }
          ],
          "parcoords": [
           {
            "line": {
             "colorbar": {
              "outlinewidth": 0,
              "ticks": ""
             }
            },
            "type": "parcoords"
           }
          ],
          "pie": [
           {
            "automargin": true,
            "type": "pie"
           }
          ],
          "scatter": [
           {
            "fillpattern": {
             "fillmode": "overlay",
             "size": 10,
             "solidity": 0.2
            },
            "type": "scatter"
           }
          ],
          "scatter3d": [
           {
            "line": {
             "colorbar": {
              "outlinewidth": 0,
              "ticks": ""
             }
            },
            "marker": {
             "colorbar": {
              "outlinewidth": 0,
              "ticks": ""
             }
            },
            "type": "scatter3d"
           }
          ],
          "scattercarpet": [
           {
            "marker": {
             "colorbar": {
              "outlinewidth": 0,
              "ticks": ""
             }
            },
            "type": "scattercarpet"
           }
          ],
          "scattergeo": [
           {
            "marker": {
             "colorbar": {
              "outlinewidth": 0,
              "ticks": ""
             }
            },
            "type": "scattergeo"
           }
          ],
          "scattergl": [
           {
            "marker": {
             "colorbar": {
              "outlinewidth": 0,
              "ticks": ""
             }
            },
            "type": "scattergl"
           }
          ],
          "scattermapbox": [
           {
            "marker": {
             "colorbar": {
              "outlinewidth": 0,
              "ticks": ""
             }
            },
            "type": "scattermapbox"
           }
          ],
          "scatterpolar": [
           {
            "marker": {
             "colorbar": {
              "outlinewidth": 0,
              "ticks": ""
             }
            },
            "type": "scatterpolar"
           }
          ],
          "scatterpolargl": [
           {
            "marker": {
             "colorbar": {
              "outlinewidth": 0,
              "ticks": ""
             }
            },
            "type": "scatterpolargl"
           }
          ],
          "scatterternary": [
           {
            "marker": {
             "colorbar": {
              "outlinewidth": 0,
              "ticks": ""
             }
            },
            "type": "scatterternary"
           }
          ],
          "surface": [
           {
            "colorbar": {
             "outlinewidth": 0,
             "ticks": ""
            },
            "colorscale": [
             [
              0,
              "#0d0887"
             ],
             [
              0.1111111111111111,
              "#46039f"
             ],
             [
              0.2222222222222222,
              "#7201a8"
             ],
             [
              0.3333333333333333,
              "#9c179e"
             ],
             [
              0.4444444444444444,
              "#bd3786"
             ],
             [
              0.5555555555555556,
              "#d8576b"
             ],
             [
              0.6666666666666666,
              "#ed7953"
             ],
             [
              0.7777777777777778,
              "#fb9f3a"
             ],
             [
              0.8888888888888888,
              "#fdca26"
             ],
             [
              1,
              "#f0f921"
             ]
            ],
            "type": "surface"
           }
          ],
          "table": [
           {
            "cells": {
             "fill": {
              "color": "#EBF0F8"
             },
             "line": {
              "color": "white"
             }
            },
            "header": {
             "fill": {
              "color": "#C8D4E3"
             },
             "line": {
              "color": "white"
             }
            },
            "type": "table"
           }
          ]
         },
         "layout": {
          "annotationdefaults": {
           "arrowcolor": "#2a3f5f",
           "arrowhead": 0,
           "arrowwidth": 1
          },
          "autotypenumbers": "strict",
          "coloraxis": {
           "colorbar": {
            "outlinewidth": 0,
            "ticks": ""
           }
          },
          "colorscale": {
           "diverging": [
            [
             0,
             "#8e0152"
            ],
            [
             0.1,
             "#c51b7d"
            ],
            [
             0.2,
             "#de77ae"
            ],
            [
             0.3,
             "#f1b6da"
            ],
            [
             0.4,
             "#fde0ef"
            ],
            [
             0.5,
             "#f7f7f7"
            ],
            [
             0.6,
             "#e6f5d0"
            ],
            [
             0.7,
             "#b8e186"
            ],
            [
             0.8,
             "#7fbc41"
            ],
            [
             0.9,
             "#4d9221"
            ],
            [
             1,
             "#276419"
            ]
           ],
           "sequential": [
            [
             0,
             "#0d0887"
            ],
            [
             0.1111111111111111,
             "#46039f"
            ],
            [
             0.2222222222222222,
             "#7201a8"
            ],
            [
             0.3333333333333333,
             "#9c179e"
            ],
            [
             0.4444444444444444,
             "#bd3786"
            ],
            [
             0.5555555555555556,
             "#d8576b"
            ],
            [
             0.6666666666666666,
             "#ed7953"
            ],
            [
             0.7777777777777778,
             "#fb9f3a"
            ],
            [
             0.8888888888888888,
             "#fdca26"
            ],
            [
             1,
             "#f0f921"
            ]
           ],
           "sequentialminus": [
            [
             0,
             "#0d0887"
            ],
            [
             0.1111111111111111,
             "#46039f"
            ],
            [
             0.2222222222222222,
             "#7201a8"
            ],
            [
             0.3333333333333333,
             "#9c179e"
            ],
            [
             0.4444444444444444,
             "#bd3786"
            ],
            [
             0.5555555555555556,
             "#d8576b"
            ],
            [
             0.6666666666666666,
             "#ed7953"
            ],
            [
             0.7777777777777778,
             "#fb9f3a"
            ],
            [
             0.8888888888888888,
             "#fdca26"
            ],
            [
             1,
             "#f0f921"
            ]
           ]
          },
          "colorway": [
           "#636efa",
           "#EF553B",
           "#00cc96",
           "#ab63fa",
           "#FFA15A",
           "#19d3f3",
           "#FF6692",
           "#B6E880",
           "#FF97FF",
           "#FECB52"
          ],
          "font": {
           "color": "#2a3f5f"
          },
          "geo": {
           "bgcolor": "white",
           "lakecolor": "white",
           "landcolor": "#E5ECF6",
           "showlakes": true,
           "showland": true,
           "subunitcolor": "white"
          },
          "hoverlabel": {
           "align": "left"
          },
          "hovermode": "closest",
          "mapbox": {
           "style": "light"
          },
          "paper_bgcolor": "white",
          "plot_bgcolor": "#E5ECF6",
          "polar": {
           "angularaxis": {
            "gridcolor": "white",
            "linecolor": "white",
            "ticks": ""
           },
           "bgcolor": "#E5ECF6",
           "radialaxis": {
            "gridcolor": "white",
            "linecolor": "white",
            "ticks": ""
           }
          },
          "scene": {
           "xaxis": {
            "backgroundcolor": "#E5ECF6",
            "gridcolor": "white",
            "gridwidth": 2,
            "linecolor": "white",
            "showbackground": true,
            "ticks": "",
            "zerolinecolor": "white"
           },
           "yaxis": {
            "backgroundcolor": "#E5ECF6",
            "gridcolor": "white",
            "gridwidth": 2,
            "linecolor": "white",
            "showbackground": true,
            "ticks": "",
            "zerolinecolor": "white"
           },
           "zaxis": {
            "backgroundcolor": "#E5ECF6",
            "gridcolor": "white",
            "gridwidth": 2,
            "linecolor": "white",
            "showbackground": true,
            "ticks": "",
            "zerolinecolor": "white"
           }
          },
          "shapedefaults": {
           "line": {
            "color": "#2a3f5f"
           }
          },
          "ternary": {
           "aaxis": {
            "gridcolor": "white",
            "linecolor": "white",
            "ticks": ""
           },
           "baxis": {
            "gridcolor": "white",
            "linecolor": "white",
            "ticks": ""
           },
           "bgcolor": "#E5ECF6",
           "caxis": {
            "gridcolor": "white",
            "linecolor": "white",
            "ticks": ""
           }
          },
          "title": {
           "x": 0.05
          },
          "xaxis": {
           "automargin": true,
           "gridcolor": "white",
           "linecolor": "white",
           "ticks": "",
           "title": {
            "standoff": 15
           },
           "zerolinecolor": "white",
           "zerolinewidth": 2
          },
          "yaxis": {
           "automargin": true,
           "gridcolor": "white",
           "linecolor": "white",
           "ticks": "",
           "title": {
            "standoff": 15
           },
           "zerolinecolor": "white",
           "zerolinewidth": 2
          }
         }
        },
        "xaxis": {
         "anchor": "y",
         "domain": [
          0,
          1
         ],
         "title": {
          "text": "cpu"
         }
        },
        "yaxis": {
         "anchor": "x",
         "domain": [
          0,
          1
         ],
         "title": {
          "text": "actual_bcast"
         }
        }
       }
      }
     },
     "metadata": {},
     "output_type": "display_data"
    }
   ],
   "source": [
    "fig = px.scatter(df, x=\"cpu\", y=\"actual_bcast\")\n",
    "fig.add_trace(go.Scatter(x=df[\"cpu\"], y=df[\"estimate_bcast\"], mode=\"lines\", name=\"est_bcast\"))"
   ]
  }
 ],
 "metadata": {
  "kernelspec": {
   "display_name": "venv",
   "language": "python",
   "name": "python3"
  },
  "language_info": {
   "codemirror_mode": {
    "name": "ipython",
    "version": 3
   },
   "file_extension": ".py",
   "mimetype": "text/x-python",
   "name": "python",
   "nbconvert_exporter": "python",
   "pygments_lexer": "ipython3",
   "version": "3.11.6"
  }
 },
 "nbformat": 4,
 "nbformat_minor": 2
}
