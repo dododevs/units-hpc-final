{
 "cells": [
  {
   "cell_type": "code",
   "execution_count": 1,
   "metadata": {
    "metadata": {}
   },
   "outputs": [],
   "source": [
    "import pandas as pd\n",
    "import plotly.express as px\n",
    "import plotly.graph_objs as go\n",
    "from plotly.subplots import make_subplots"
   ]
  },
  {
   "cell_type": "code",
   "execution_count": 2,
   "metadata": {
    "metadata": {}
   },
   "outputs": [],
   "source": [
    "def hex_to_rgba(h, alpha):\n",
    "  return \"rgba\" + str(tuple([int(h.lstrip('#')[i:i+2], 16) for i in (0, 2, 4)] + [alpha]))\n",
    "\n",
    "def parse_results_file(fname, labels):\n",
    "  with open(fname, \"r\") as f:\n",
    "    data = f.read()\n",
    "  df_data = {\n",
    "    \"time\": []\n",
    "  }\n",
    "  for label in labels:\n",
    "    df_data[label] = []\n",
    "\n",
    "  header_is_next = False\n",
    "  header_read = False\n",
    "  for line in data.split(\"\\n\"):\n",
    "    if not line:\n",
    "      continue\n",
    "    if header_is_next:\n",
    "      header = line\n",
    "      header_read = True\n",
    "      header_is_next = False\n",
    "    elif \"*\" in line:\n",
    "      header_is_next = not header_read\n",
    "    else:\n",
    "      parts = [part.strip() for part in line.split(\"|\")]\n",
    "      for part in parts:\n",
    "        x_label = part.split(\"=\")[0]\n",
    "        if x_label in labels:\n",
    "          x_val = float(part.split(\"=\")[-1])\n",
    "          df_data[x_label].append(x_val)\n",
    "      y_val = float(parts[-1])\n",
    "      df_data['time'].append(y_val)\n",
    "  return header, pd.DataFrame(data=df_data)"
   ]
  },
  {
   "cell_type": "markdown",
   "metadata": {},
   "source": [
    "## MPI scaling"
   ]
  },
  {
   "cell_type": "code",
   "execution_count": 3,
   "metadata": {
    "metadata": {}
   },
   "outputs": [],
   "source": [
    "header, df = parse_results_file(\"mpiscaling/20240510_105932_2epyc_mpiscaling.txt\", [\"nodes\"])"
   ]
  },
  {
   "cell_type": "code",
   "execution_count": 4,
   "metadata": {
    "metadata": {}
   },
   "outputs": [],
   "source": [
    "fig = make_subplots()\n",
    "fig.update_layout(\n",
    "  legend=dict(\n",
    "    orientation=\"h\",\n",
    "    yanchor=\"bottom\",\n",
    "    y=1.02,\n",
    "    xanchor=\"right\",\n",
    "    x=1,\n",
    "  ),\n",
    "  xaxis_title=\"np (CPU cores)\",\n",
    "  yaxis_title=\"Time\"\n",
    ")\n",
    "fig.add_trace(go.Scatter(\n",
    "  x=df[\"nodes\"], \n",
    "  y=df[\"time\"],\n",
    "  mode='lines+markers', \n",
    "  name=f\"MPI scaling, --map-by socket\"\n",
    "))\n",
    "fig.add_trace(go.Scatter(\n",
    "  x=df[\"nodes\"], \n",
    "  y=df[\"nodes\"].apply(lambda np: df[\"time\"].iloc[-1] / np * df[\"nodes\"].iloc[-1]),\n",
    "  mode='lines+markers', \n",
    "  line=dict(\n",
    "    dash='dot'\n",
    "  ),\n",
    "  name=\"Theoretical scalability\"\n",
    "))\n",
    "\n",
    "fig.update_xaxes(type='log')\n",
    "fig.update_yaxes(type='log')\n",
    "fig"
   ]
  },
  {
   "cell_type": "markdown",
   "metadata": {},
   "source": [
    "## Opt scaling"
   ]
  },
  {
   "cell_type": "code",
   "execution_count": 5,
   "metadata": {
    "metadata": {}
   },
   "outputs": [],
   "source": [
    "header, df = parse_results_file(\"opt/20240509_235051_2epyc_opt.txt\", [\"places\", \"nodes\"])"
   ]
  },
  {
   "cell_type": "code",
   "execution_count": 7,
   "metadata": {
    "metadata": {}
   },
   "outputs": [],
   "source": [
    "symbols = [\"circle\", \"square\", \"x\", \"star\"]\n",
    "colors = [\"#EBD9B4\", \"#75A47F\", \"#E6A4B4\", \"#756AB6\"]\n",
    "\n",
    "fig = make_subplots()\n",
    "fig.update_layout(\n",
    "  legend=dict(\n",
    "    orientation=\"h\",\n",
    "    yanchor=\"bottom\",\n",
    "    y=1.02,\n",
    "    xanchor=\"right\",\n",
    "    x=1,\n",
    "  ),\n",
    "  xaxis_title=\"np (CPU cores)\",\n",
    "  yaxis_title=\"Time\"\n",
    ")\n",
    "by_node = df.groupby(\"nodes\").aggregate(lambda x: x.to_list())\n",
    "for x in range(4):\n",
    "  fig.add_trace(go.Scatter(\n",
    "    x=by_node.iloc[x][\"places\"], \n",
    "    y=by_node.iloc[x][\"time\"], \n",
    "    mode='lines+markers', \n",
    "    name=f\"{x+1} {'socket' if x+1 == 1 else 'sockets'}\",\n",
    "    marker=dict(\n",
    "      symbol=symbols[x],color=colors[x],\n",
    "    )\n",
    "  ))\n",
    "  fig.add_trace(go.Scatter(\n",
    "    x=by_node.iloc[x][\"places\"], \n",
    "    y=[by_node.iloc[x][\"time\"][-1] / np * by_node.iloc[x][\"places\"][-1] for np in by_node.iloc[x][\"places\"]],\n",
    "    mode='lines+markers', \n",
    "    name=f\"Theoretical speedup with {x+1} {'socket' if x+1 == 1 else 'sockets'}\",\n",
    "    marker=dict(\n",
    "      symbol=symbols[x],\n",
    "      color=colors[x]\n",
    "    ),\n",
    "    line=dict(\n",
    "      color=hex_to_rgba(colors[x], 0.5),\n",
    "      dash='dot'\n",
    "    )\n",
    "  ))\n",
    "fig.update_xaxes(type='log')\n",
    "fig.update_yaxes(type='log')\n",
    "fig"
   ]
  },
  {
   "cell_type": "markdown",
   "metadata": {},
   "source": [
    "## OMP scaling"
   ]
  },
  {
   "cell_type": "code",
   "execution_count": 8,
   "metadata": {
    "metadata": {}
   },
   "outputs": [],
   "source": [
    "header, df = parse_results_file(\"ompscaling/20240515_152522_2epyc_ompscaling.txt\", [\"places\"])"
   ]
  },
  {
   "cell_type": "code",
   "execution_count": 9,
   "metadata": {
    "metadata": {}
   },
   "outputs": [],
   "source": [
    "header, df1 = parse_results_file(\"ompscaling/20240510_093852_2epyc_ompscaling.txt\", [\"places\"])"
   ]
  },
  {
   "cell_type": "code",
   "execution_count": 10,
   "metadata": {
    "metadata": {}
   },
   "outputs": [],
   "source": [
    "fig = make_subplots()\n",
    "fig.update_layout(\n",
    "  legend=dict(\n",
    "    orientation=\"h\",\n",
    "    yanchor=\"bottom\",\n",
    "    y=1.02,\n",
    "    xanchor=\"right\",\n",
    "    x=1,\n",
    "  ),\n",
    "  xaxis_title=\"Places (CPU cores)\",\n",
    "  yaxis_title=\"Time\"\n",
    ")\n",
    "fig.add_trace(go.Scatter(\n",
    "  x=df[\"places\"], \n",
    "  y=df[\"time\"],\n",
    "  mode='lines+markers', \n",
    "  name=f\"OMP scaling, OMP_PROC_BIND=spread\"\n",
    "))\n",
    "fig.add_trace(go.Scatter(\n",
    "  x=df1[\"places\"], \n",
    "  y=df1[\"time\"],\n",
    "  mode='lines+markers', \n",
    "  name=f\"OMP scaling, OMP_PROC_BIND=close\"\n",
    "))\n",
    "fig.add_trace(go.Scatter(\n",
    "  x=df[\"places\"], \n",
    "  y=df[\"places\"].apply(lambda np: df[\"time\"].iloc[-1] / np * df[\"places\"].iloc[-1]),\n",
    "  mode='lines+markers', \n",
    "  line=dict(\n",
    "    dash='dot'\n",
    "  ),\n",
    "  name=\"Theoretical speedup\"\n",
    "))\n",
    "\n",
    "fig.update_xaxes(type='log')\n",
    "fig.update_yaxes(type='log')\n",
    "fig"
   ]
  },
  {
   "cell_type": "markdown",
   "metadata": {},
   "source": [
    "## OMP scaling (small)"
   ]
  },
  {
   "cell_type": "code",
   "execution_count": 11,
   "metadata": {
    "metadata": {}
   },
   "outputs": [],
   "source": [
    "header, df1 = parse_results_file(\"ompscaling/20240519_104329_2epyc_ompscaling.txt\", [\"places\"])"
   ]
  },
  {
   "cell_type": "code",
   "execution_count": 12,
   "metadata": {
    "metadata": {}
   },
   "outputs": [],
   "source": [
    "header, df = parse_results_file(\"ompscaling/20240519_104732_2epyc_ompscaling.txt\", [\"places\"])"
   ]
  },
  {
   "cell_type": "code",
   "execution_count": 17,
   "metadata": {
    "metadata": {}
   },
   "outputs": [
    {
     "data": {
      "application/vnd.plotly.v1+json": {
       "config": {
        "plotlyServerURL": "https://plot.ly"
       },
       "data": [
        {
         "mode": "lines+markers",
         "name": "OMP scaling, OMP_PROC_BIND=spread",
         "type": "scatter",
         "x": [
          128,
          64,
          32,
          16,
          8,
          4,
          2,
          1
         ],
         "y": [
          38.84,
          36.608,
          36.155,
          35.587,
          21.042,
          15.629,
          9.998,
          8.535
         ]
        },
        {
         "mode": "lines+markers",
         "name": "OMP scaling, OMP_PROC_BIND=close",
         "type": "scatter",
         "x": [
          128,
          64,
          32,
          16,
          8,
          4,
          2,
          1
         ],
         "y": [
          1.991,
          2.993,
          4.626,
          8.169,
          15.359,
          28.821,
          57.136,
          113.247
         ]
        },
        {
         "line": {
          "dash": "dot"
         },
         "mode": "lines+markers",
         "name": "Theoretical speedup OMP_PROC_BIND=spread",
         "type": "scatter",
         "x": [
          128,
          64,
          32,
          16,
          8,
          4,
          2,
          1
         ],
         "y": [
          0.0666796875,
          0.133359375,
          0.26671875,
          0.5334375,
          1.066875,
          2.13375,
          4.2675,
          8.535
         ]
        },
        {
         "line": {
          "dash": "dot"
         },
         "mode": "lines+markers",
         "name": "Theoretical speedup OMP_PROC_BIND=close",
         "type": "scatter",
         "x": [
          128,
          64,
          32,
          16,
          8,
          4,
          2,
          1
         ],
         "y": [
          0.8847421875,
          1.769484375,
          3.53896875,
          7.0779375,
          14.155875,
          28.31175,
          56.6235,
          113.247
         ]
        }
       ],
       "layout": {
        "legend": {
         "orientation": "h",
         "x": 1,
         "xanchor": "right",
         "y": 1.02,
         "yanchor": "bottom"
        },
        "template": {
         "data": {
          "bar": [
           {
            "error_x": {
             "color": "#2a3f5f"
            },
            "error_y": {
             "color": "#2a3f5f"
            },
            "marker": {
             "line": {
              "color": "#E5ECF6",
              "width": 0.5
             },
             "pattern": {
              "fillmode": "overlay",
              "size": 10,
              "solidity": 0.2
             }
            },
            "type": "bar"
           }
          ],
          "barpolar": [
           {
            "marker": {
             "line": {
              "color": "#E5ECF6",
              "width": 0.5
             },
             "pattern": {
              "fillmode": "overlay",
              "size": 10,
              "solidity": 0.2
             }
            },
            "type": "barpolar"
           }
          ],
          "carpet": [
           {
            "aaxis": {
             "endlinecolor": "#2a3f5f",
             "gridcolor": "white",
             "linecolor": "white",
             "minorgridcolor": "white",
             "startlinecolor": "#2a3f5f"
            },
            "baxis": {
             "endlinecolor": "#2a3f5f",
             "gridcolor": "white",
             "linecolor": "white",
             "minorgridcolor": "white",
             "startlinecolor": "#2a3f5f"
            },
            "type": "carpet"
           }
          ],
          "choropleth": [
           {
            "colorbar": {
             "outlinewidth": 0,
             "ticks": ""
            },
            "type": "choropleth"
           }
          ],
          "contour": [
           {
            "colorbar": {
             "outlinewidth": 0,
             "ticks": ""
            },
            "colorscale": [
             [
              0,
              "#0d0887"
             ],
             [
              0.1111111111111111,
              "#46039f"
             ],
             [
              0.2222222222222222,
              "#7201a8"
             ],
             [
              0.3333333333333333,
              "#9c179e"
             ],
             [
              0.4444444444444444,
              "#bd3786"
             ],
             [
              0.5555555555555556,
              "#d8576b"
             ],
             [
              0.6666666666666666,
              "#ed7953"
             ],
             [
              0.7777777777777778,
              "#fb9f3a"
             ],
             [
              0.8888888888888888,
              "#fdca26"
             ],
             [
              1,
              "#f0f921"
             ]
            ],
            "type": "contour"
           }
          ],
          "contourcarpet": [
           {
            "colorbar": {
             "outlinewidth": 0,
             "ticks": ""
            },
            "type": "contourcarpet"
           }
          ],
          "heatmap": [
           {
            "colorbar": {
             "outlinewidth": 0,
             "ticks": ""
            },
            "colorscale": [
             [
              0,
              "#0d0887"
             ],
             [
              0.1111111111111111,
              "#46039f"
             ],
             [
              0.2222222222222222,
              "#7201a8"
             ],
             [
              0.3333333333333333,
              "#9c179e"
             ],
             [
              0.4444444444444444,
              "#bd3786"
             ],
             [
              0.5555555555555556,
              "#d8576b"
             ],
             [
              0.6666666666666666,
              "#ed7953"
             ],
             [
              0.7777777777777778,
              "#fb9f3a"
             ],
             [
              0.8888888888888888,
              "#fdca26"
             ],
             [
              1,
              "#f0f921"
             ]
            ],
            "type": "heatmap"
           }
          ],
          "heatmapgl": [
           {
            "colorbar": {
             "outlinewidth": 0,
             "ticks": ""
            },
            "colorscale": [
             [
              0,
              "#0d0887"
             ],
             [
              0.1111111111111111,
              "#46039f"
             ],
             [
              0.2222222222222222,
              "#7201a8"
             ],
             [
              0.3333333333333333,
              "#9c179e"
             ],
             [
              0.4444444444444444,
              "#bd3786"
             ],
             [
              0.5555555555555556,
              "#d8576b"
             ],
             [
              0.6666666666666666,
              "#ed7953"
             ],
             [
              0.7777777777777778,
              "#fb9f3a"
             ],
             [
              0.8888888888888888,
              "#fdca26"
             ],
             [
              1,
              "#f0f921"
             ]
            ],
            "type": "heatmapgl"
           }
          ],
          "histogram": [
           {
            "marker": {
             "pattern": {
              "fillmode": "overlay",
              "size": 10,
              "solidity": 0.2
             }
            },
            "type": "histogram"
           }
          ],
          "histogram2d": [
           {
            "colorbar": {
             "outlinewidth": 0,
             "ticks": ""
            },
            "colorscale": [
             [
              0,
              "#0d0887"
             ],
             [
              0.1111111111111111,
              "#46039f"
             ],
             [
              0.2222222222222222,
              "#7201a8"
             ],
             [
              0.3333333333333333,
              "#9c179e"
             ],
             [
              0.4444444444444444,
              "#bd3786"
             ],
             [
              0.5555555555555556,
              "#d8576b"
             ],
             [
              0.6666666666666666,
              "#ed7953"
             ],
             [
              0.7777777777777778,
              "#fb9f3a"
             ],
             [
              0.8888888888888888,
              "#fdca26"
             ],
             [
              1,
              "#f0f921"
             ]
            ],
            "type": "histogram2d"
           }
          ],
          "histogram2dcontour": [
           {
            "colorbar": {
             "outlinewidth": 0,
             "ticks": ""
            },
            "colorscale": [
             [
              0,
              "#0d0887"
             ],
             [
              0.1111111111111111,
              "#46039f"
             ],
             [
              0.2222222222222222,
              "#7201a8"
             ],
             [
              0.3333333333333333,
              "#9c179e"
             ],
             [
              0.4444444444444444,
              "#bd3786"
             ],
             [
              0.5555555555555556,
              "#d8576b"
             ],
             [
              0.6666666666666666,
              "#ed7953"
             ],
             [
              0.7777777777777778,
              "#fb9f3a"
             ],
             [
              0.8888888888888888,
              "#fdca26"
             ],
             [
              1,
              "#f0f921"
             ]
            ],
            "type": "histogram2dcontour"
           }
          ],
          "mesh3d": [
           {
            "colorbar": {
             "outlinewidth": 0,
             "ticks": ""
            },
            "type": "mesh3d"
           }
          ],
          "parcoords": [
           {
            "line": {
             "colorbar": {
              "outlinewidth": 0,
              "ticks": ""
             }
            },
            "type": "parcoords"
           }
          ],
          "pie": [
           {
            "automargin": true,
            "type": "pie"
           }
          ],
          "scatter": [
           {
            "fillpattern": {
             "fillmode": "overlay",
             "size": 10,
             "solidity": 0.2
            },
            "type": "scatter"
           }
          ],
          "scatter3d": [
           {
            "line": {
             "colorbar": {
              "outlinewidth": 0,
              "ticks": ""
             }
            },
            "marker": {
             "colorbar": {
              "outlinewidth": 0,
              "ticks": ""
             }
            },
            "type": "scatter3d"
           }
          ],
          "scattercarpet": [
           {
            "marker": {
             "colorbar": {
              "outlinewidth": 0,
              "ticks": ""
             }
            },
            "type": "scattercarpet"
           }
          ],
          "scattergeo": [
           {
            "marker": {
             "colorbar": {
              "outlinewidth": 0,
              "ticks": ""
             }
            },
            "type": "scattergeo"
           }
          ],
          "scattergl": [
           {
            "marker": {
             "colorbar": {
              "outlinewidth": 0,
              "ticks": ""
             }
            },
            "type": "scattergl"
           }
          ],
          "scattermapbox": [
           {
            "marker": {
             "colorbar": {
              "outlinewidth": 0,
              "ticks": ""
             }
            },
            "type": "scattermapbox"
           }
          ],
          "scatterpolar": [
           {
            "marker": {
             "colorbar": {
              "outlinewidth": 0,
              "ticks": ""
             }
            },
            "type": "scatterpolar"
           }
          ],
          "scatterpolargl": [
           {
            "marker": {
             "colorbar": {
              "outlinewidth": 0,
              "ticks": ""
             }
            },
            "type": "scatterpolargl"
           }
          ],
          "scatterternary": [
           {
            "marker": {
             "colorbar": {
              "outlinewidth": 0,
              "ticks": ""
             }
            },
            "type": "scatterternary"
           }
          ],
          "surface": [
           {
            "colorbar": {
             "outlinewidth": 0,
             "ticks": ""
            },
            "colorscale": [
             [
              0,
              "#0d0887"
             ],
             [
              0.1111111111111111,
              "#46039f"
             ],
             [
              0.2222222222222222,
              "#7201a8"
             ],
             [
              0.3333333333333333,
              "#9c179e"
             ],
             [
              0.4444444444444444,
              "#bd3786"
             ],
             [
              0.5555555555555556,
              "#d8576b"
             ],
             [
              0.6666666666666666,
              "#ed7953"
             ],
             [
              0.7777777777777778,
              "#fb9f3a"
             ],
             [
              0.8888888888888888,
              "#fdca26"
             ],
             [
              1,
              "#f0f921"
             ]
            ],
            "type": "surface"
           }
          ],
          "table": [
           {
            "cells": {
             "fill": {
              "color": "#EBF0F8"
             },
             "line": {
              "color": "white"
             }
            },
            "header": {
             "fill": {
              "color": "#C8D4E3"
             },
             "line": {
              "color": "white"
             }
            },
            "type": "table"
           }
          ]
         },
         "layout": {
          "annotationdefaults": {
           "arrowcolor": "#2a3f5f",
           "arrowhead": 0,
           "arrowwidth": 1
          },
          "autotypenumbers": "strict",
          "coloraxis": {
           "colorbar": {
            "outlinewidth": 0,
            "ticks": ""
           }
          },
          "colorscale": {
           "diverging": [
            [
             0,
             "#8e0152"
            ],
            [
             0.1,
             "#c51b7d"
            ],
            [
             0.2,
             "#de77ae"
            ],
            [
             0.3,
             "#f1b6da"
            ],
            [
             0.4,
             "#fde0ef"
            ],
            [
             0.5,
             "#f7f7f7"
            ],
            [
             0.6,
             "#e6f5d0"
            ],
            [
             0.7,
             "#b8e186"
            ],
            [
             0.8,
             "#7fbc41"
            ],
            [
             0.9,
             "#4d9221"
            ],
            [
             1,
             "#276419"
            ]
           ],
           "sequential": [
            [
             0,
             "#0d0887"
            ],
            [
             0.1111111111111111,
             "#46039f"
            ],
            [
             0.2222222222222222,
             "#7201a8"
            ],
            [
             0.3333333333333333,
             "#9c179e"
            ],
            [
             0.4444444444444444,
             "#bd3786"
            ],
            [
             0.5555555555555556,
             "#d8576b"
            ],
            [
             0.6666666666666666,
             "#ed7953"
            ],
            [
             0.7777777777777778,
             "#fb9f3a"
            ],
            [
             0.8888888888888888,
             "#fdca26"
            ],
            [
             1,
             "#f0f921"
            ]
           ],
           "sequentialminus": [
            [
             0,
             "#0d0887"
            ],
            [
             0.1111111111111111,
             "#46039f"
            ],
            [
             0.2222222222222222,
             "#7201a8"
            ],
            [
             0.3333333333333333,
             "#9c179e"
            ],
            [
             0.4444444444444444,
             "#bd3786"
            ],
            [
             0.5555555555555556,
             "#d8576b"
            ],
            [
             0.6666666666666666,
             "#ed7953"
            ],
            [
             0.7777777777777778,
             "#fb9f3a"
            ],
            [
             0.8888888888888888,
             "#fdca26"
            ],
            [
             1,
             "#f0f921"
            ]
           ]
          },
          "colorway": [
           "#636efa",
           "#EF553B",
           "#00cc96",
           "#ab63fa",
           "#FFA15A",
           "#19d3f3",
           "#FF6692",
           "#B6E880",
           "#FF97FF",
           "#FECB52"
          ],
          "font": {
           "color": "#2a3f5f"
          },
          "geo": {
           "bgcolor": "white",
           "lakecolor": "white",
           "landcolor": "#E5ECF6",
           "showlakes": true,
           "showland": true,
           "subunitcolor": "white"
          },
          "hoverlabel": {
           "align": "left"
          },
          "hovermode": "closest",
          "mapbox": {
           "style": "light"
          },
          "paper_bgcolor": "white",
          "plot_bgcolor": "#E5ECF6",
          "polar": {
           "angularaxis": {
            "gridcolor": "white",
            "linecolor": "white",
            "ticks": ""
           },
           "bgcolor": "#E5ECF6",
           "radialaxis": {
            "gridcolor": "white",
            "linecolor": "white",
            "ticks": ""
           }
          },
          "scene": {
           "xaxis": {
            "backgroundcolor": "#E5ECF6",
            "gridcolor": "white",
            "gridwidth": 2,
            "linecolor": "white",
            "showbackground": true,
            "ticks": "",
            "zerolinecolor": "white"
           },
           "yaxis": {
            "backgroundcolor": "#E5ECF6",
            "gridcolor": "white",
            "gridwidth": 2,
            "linecolor": "white",
            "showbackground": true,
            "ticks": "",
            "zerolinecolor": "white"
           },
           "zaxis": {
            "backgroundcolor": "#E5ECF6",
            "gridcolor": "white",
            "gridwidth": 2,
            "linecolor": "white",
            "showbackground": true,
            "ticks": "",
            "zerolinecolor": "white"
           }
          },
          "shapedefaults": {
           "line": {
            "color": "#2a3f5f"
           }
          },
          "ternary": {
           "aaxis": {
            "gridcolor": "white",
            "linecolor": "white",
            "ticks": ""
           },
           "baxis": {
            "gridcolor": "white",
            "linecolor": "white",
            "ticks": ""
           },
           "bgcolor": "#E5ECF6",
           "caxis": {
            "gridcolor": "white",
            "linecolor": "white",
            "ticks": ""
           }
          },
          "title": {
           "x": 0.05
          },
          "xaxis": {
           "automargin": true,
           "gridcolor": "white",
           "linecolor": "white",
           "ticks": "",
           "title": {
            "standoff": 15
           },
           "zerolinecolor": "white",
           "zerolinewidth": 2
          },
          "yaxis": {
           "automargin": true,
           "gridcolor": "white",
           "linecolor": "white",
           "ticks": "",
           "title": {
            "standoff": 15
           },
           "zerolinecolor": "white",
           "zerolinewidth": 2
          }
         }
        },
        "xaxis": {
         "anchor": "y",
         "domain": [
          0,
          1
         ],
         "title": {
          "text": "Places (CPU cores)"
         },
         "type": "log"
        },
        "yaxis": {
         "anchor": "x",
         "domain": [
          0,
          1
         ],
         "title": {
          "text": "Time"
         },
         "type": "log"
        }
       }
      }
     },
     "metadata": {},
     "output_type": "display_data"
    }
   ],
   "source": [
    "fig = make_subplots()\n",
    "fig.update_layout(\n",
    "  legend=dict(\n",
    "    orientation=\"h\",\n",
    "    yanchor=\"bottom\",\n",
    "    y=1.02,\n",
    "    xanchor=\"right\",\n",
    "    x=1,\n",
    "  ),\n",
    "  xaxis_title=\"Places (CPU cores)\",\n",
    "  yaxis_title=\"Time\"\n",
    ")\n",
    "fig.add_trace(go.Scatter(\n",
    "  x=df[\"places\"], \n",
    "  y=df[\"time\"],\n",
    "  mode='lines+markers', \n",
    "  name=f\"OMP scaling, OMP_PROC_BIND=spread\"\n",
    "))\n",
    "fig.add_trace(go.Scatter(\n",
    "  x=df1[\"places\"], \n",
    "  y=df1[\"time\"],\n",
    "  mode='lines+markers', \n",
    "  name=f\"OMP scaling, OMP_PROC_BIND=close\"\n",
    "))\n",
    "fig.add_trace(go.Scatter(\n",
    "  x=df[\"places\"], \n",
    "  y=df[\"places\"].apply(lambda np: df[\"time\"].iloc[-1] / np * df[\"places\"].iloc[-1]),\n",
    "  mode='lines+markers', \n",
    "  line=dict(\n",
    "    dash='dot'\n",
    "  ),\n",
    "  name=\"Theoretical speedup OMP_PROC_BIND=spread\"\n",
    "))\n",
    "fig.add_trace(go.Scatter(\n",
    "  x=df[\"places\"], \n",
    "  y=df1[\"places\"].apply(lambda np: df1[\"time\"].iloc[-1] / np * df1[\"places\"].iloc[-1]),\n",
    "  mode='lines+markers', \n",
    "  line=dict(\n",
    "    dash='dot'\n",
    "  ),\n",
    "  name=\"Theoretical speedup OMP_PROC_BIND=close\"\n",
    "))\n",
    "\n",
    "fig.update_xaxes(type='log')\n",
    "fig.update_yaxes(type='log')\n",
    "fig\n"
   ]
  },
  {
   "cell_type": "markdown",
   "metadata": {},
   "source": [
    "## Weak scaling"
   ]
  },
  {
   "cell_type": "code",
   "execution_count": 14,
   "metadata": {
    "metadata": {}
   },
   "outputs": [],
   "source": [
    "header, df = parse_results_file(\"weak/20240522_194423_epyc_weak.txt\", [\"places\", \"ny\"])"
   ]
  },
  {
   "cell_type": "code",
   "execution_count": 16,
   "metadata": {
    "metadata": {}
   },
   "outputs": [],
   "source": [
    "fig = make_subplots()\n",
    "fig.update_layout(\n",
    "  legend=dict(\n",
    "    orientation=\"h\",\n",
    "    yanchor=\"bottom\",\n",
    "    y=1.02,\n",
    "    xanchor=\"right\",\n",
    "    x=1,\n",
    "  ),\n",
    "  xaxis_title=\"x size, places (cpu cores) halved at every step starting from 128\",\n",
    "  yaxis_title=\"Time\"\n",
    ")\n",
    "fig.add_trace(go.Scatter(\n",
    "  x=df[\"ny\"], \n",
    "  y=df[\"time\"],\n",
    "  mode='lines+markers', \n",
    "  name=f\"Weak scaling\"\n",
    "))\n",
    "\n",
    "fig.update_xaxes(type='linear')\n",
    "fig.update_yaxes(type='linear')\n",
    "fig"
   ]
  }
 ],
 "metadata": {
  "kernelspec": {
   "display_name": "venv",
   "language": "python",
   "name": "python3"
  },
  "language_info": {
   "codemirror_mode": {
    "name": "ipython",
    "version": 3
   },
   "file_extension": ".py",
   "mimetype": "text/x-python",
   "name": "python",
   "nbconvert_exporter": "python",
   "pygments_lexer": "ipython3",
   "version": "3.12.3"
  }
 },
 "nbformat": 4,
 "nbformat_minor": 2
}
